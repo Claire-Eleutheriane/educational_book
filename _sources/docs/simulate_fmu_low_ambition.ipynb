{
 "cells": [
  {
   "cell_type": "markdown",
   "id": "biological-family",
   "metadata": {},
   "source": [
    "# Run small FMU tests"
   ]
  },
  {
   "cell_type": "code",
   "execution_count": null,
   "id": "demonstrated-price",
   "metadata": {},
   "outputs": [],
   "source": [
    "import numpy as np\n",
    "from os.path import join\n",
    "import matplotlib.pyplot as plt\n",
    "import fmpy\n",
    "\n",
    "# Establish parameter bounds\n",
    "\n",
    "n_simu = 5\n",
    "\n",
    "dic_nominal = {\n",
    "    \"Pump.hn_coef[1]\": -88.67,\n",
    "    \"Pump.hn_coef[2]\": 43.15\n",
    "}\n",
    "\n",
    "dic_range = {\n",
    "    \"Pump.hn_coef[1]\": np.linspace(-100, -60, n_simu),\n",
    "    \"Pump.hn_coef[2]\": np.linspace(20, 60, n_simu)\n",
    "}\n",
    "\n",
    "# Define simulation parameters\n",
    "\n",
    "list_input = [\"Pump.hn_coef[1]\"]\n",
    "list_output = [\"Pipe.Q\"]\n",
    "output_filter = list_input.extend(list_output)\n",
    "final_time = 50\n",
    "\n",
    "doe_data = np.array([[xx] for xx in dic_range[list_input[0]]])\n",
    "kwargs = {\n",
    "        \"validate\": False, \"fmi_type\": \"ModelExchange\", \"solver\": \"CVode\",\n",
    "        \"relative_tolerance\": 1e-6, \"stop_time\": 50, \"output\": output_filter}\n",
    "\n",
    "directory = \"../script/fmu\"\n",
    "fmu_filename = \"PumpMotor.fmu\"\n",
    "path_fmu = join(directory, fmu_filename)\n",
    "\n",
    "result = fmpy.simulate_fmu(path_fmu, **kwargs)\n",
    "print(result[:3])"
   ]
  },
  {
   "cell_type": "code",
   "execution_count": null,
   "id": "bacterial-insured",
   "metadata": {},
   "outputs": [],
   "source": [
    "import os,sys,inspect\n",
    "current_dir = os.path.dirname(os.path.abspath(inspect.getfile(inspect.currentframe())))\n",
    "parent_dir = os.path.dirname(current_dir)\n",
    "newpath = os.path.join(parent_dir, \"script\")\n",
    "sys.path.insert(0, newpath) \n",
    "import fmpy_sim\n",
    "\n",
    "list_df = fmpy_sim.simulate_on_doe(\n",
    "    list_input, doe_data, path_fmu, **kwargs)"
   ]
  },
  {
   "cell_type": "code",
   "execution_count": null,
   "id": "racial-phone",
   "metadata": {},
   "outputs": [],
   "source": [
    "# Plot the simulation\n",
    "\n",
    "from bokeh.plotting import figure, show, output_notebook\n",
    "output_notebook()"
   ]
  },
  {
   "cell_type": "code",
   "execution_count": null,
   "id": "overhead-foster",
   "metadata": {},
   "outputs": [],
   "source": [
    "from bokeh.palettes import Category10\n",
    "colormap = Category10[n_simu]\n",
    "\n",
    "p = figure(plot_width=400, plot_height=400)\n",
    "list_color = [\"\"]\n",
    "for (df, value, color) in zip(list_df, doe_data, colormap):\n",
    "    p.line(df.index, df[list_output[0]], legend_label=str(value[0]), color=color)\n",
    "p.legend.location = \"bottom_right\"\n",
    "p.legend.title = list_input[0]\n",
    "show(p)"
   ]
  },
  {
   "cell_type": "code",
   "execution_count": null,
   "id": "constant-lambda",
   "metadata": {},
   "outputs": [],
   "source": []
  }
 ],
 "metadata": {
  "jupytext": {
   "text_representation": {
    "extension": ".md",
    "format_name": "myst",
    "format_version": 0.12,
    "jupytext_version": "1.8.2"
   }
  },
  "kernelspec": {
   "display_name": "Python 3",
   "language": "python",
   "name": "python3"
  },
  "source_map": [
   12,
   16,
   56,
   68,
   75,
   88
  ]
 },
 "nbformat": 4,
 "nbformat_minor": 5
}