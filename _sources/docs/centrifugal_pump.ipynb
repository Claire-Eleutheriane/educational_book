{
 "cells": [
  {
   "cell_type": "markdown",
   "id": "contemporary-domestic",
   "metadata": {},
   "source": [
    "(centrifugal_pump)=\n",
    "\n",
    "# A cooling system\n",
    "\n",
    "We consider a cooling system relying on a centrifugal pump, activated by a motor (see Figure 1). A centrifugal pump converts rotational energy from a motor to energy in a moving fluid, which creates pressure.\n",
    "\n",
    "The purpose of this case study is to build the cooling system model and check its adequation with the reality.\n",
    "\n",
    "## The model\n",
    "\n",
    "The physics preceding the modeling choices of the component is detailed in {cite}`el2019modeling`.\n",
    "The correspondance between theoretical and Modelica notations is explicited in the [centrifugal pump online documentation](https://thermosyspro.gitlab.io/documentation/src/WaterSteam/Machines/CentrifugalPump.html).\n",
    "\n",
    "```{figure} /_static/centrifugal_pump/CentrifugalPump.svg\n",
    "---\n",
    "height: 250px\n",
    "name: pump_image\n",
    "---\n",
    "Centrifugal pump symbol in ThermoSysPro.\n",
    "```\n",
    "\n",
    "We connect the centrifugal pump to a motor. The motor starts working at $t=0$ and activates the pump. A pipe links the pump to a water tank and to a valv. A resistance mimics the friction of the liquid on the inner side of the pipe. \n",
    "\n",
    "```{figure} /_static/centrifugal_pump/omedit_pump_motor.png\n",
    "---\n",
    "height: 250px\n",
    "name: pump_motor_image\n",
    "---\n",
    "Cooling system using a centrifugal pump activated by a motor.\n",
    "```\n",
    "\n",
    "We are interested in the mass flow rate at the output of the pump. The mass flow rate must reach a defined nominal value for the installation to work properly.\n",
    "\n",
    "```{figure} /_static/centrifugal_pump/pump_output.png\n",
    "---\n",
    "height: 250px\n",
    "name: pump_output_image\n",
    "---\n",
    "Evolution of the fluid mass flow rate in the pipe after switching on the motor.\n",
    "```\n",
    "\n",
    "\n",
    "## Understanding the system parameters\n",
    "\n",
    "The centrifugal pump has two characteristic functions, usually provided by the manufacturer.\n",
    "Both apply to the average volumetric flow rate $q$ divided by the shaft angular speed $\\omega$.\n",
    "The first characteristic $f_\\eta$ relates the pump hydraulic efficiency to the ratio.\n",
    "The other characteristic $f_h$ relates the pump head to the ratio.\n",
    "\n",
    "These characteristics are approximated by second-order polynomials in the pump component:\n",
    "\n",
    "$$f_h\\left(\\frac{q}{\\omega}\\right) = a_0 + a_1\\left(\\frac{q}{\\omega}\\right) + a_2\\left(\\frac{q}{\\omega}\\right)^2$$\n",
    "\n",
    "$$f_\\eta\\left(\\frac{q}{\\omega}\\right) = b_0 + b_1\\left(\\frac{q}{\\omega}\\right) + b_2\\left(\\frac{q}{\\omega}\\right)^2$$\n",
    "\n",
    "To understand the effect of the characteristic parameters, we modify their value.\n",
    "\n",
    "\n",
    "## Bibliography\n",
    "\n",
    "```{bibliography} ../_bibliography/references.bib\n",
    "```"
   ]
  }
 ],
 "metadata": {
  "jupytext": {
   "text_representation": {
    "extension": ".md",
    "format_name": "myst"
   }
  },
  "kernelspec": {
   "display_name": "Python 3",
   "language": "python",
   "name": "python3"
  },
  "language_info": {
   "codemirror_mode": {
    "name": "ipython",
    "version": 3
   },
   "file_extension": ".py",
   "mimetype": "text/x-python",
   "name": "python",
   "nbconvert_exporter": "python",
   "pygments_lexer": "ipython3",
   "version": "3.8.7"
  },
  "source_map": [
   10
  ]
 },
 "nbformat": 4,
 "nbformat_minor": 5
}