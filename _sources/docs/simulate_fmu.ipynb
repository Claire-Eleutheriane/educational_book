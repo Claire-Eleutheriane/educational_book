{
 "cells": [
  {
   "cell_type": "markdown",
   "id": "molecular-squad",
   "metadata": {},
   "source": [
    "# Test running FMU online"
   ]
  },
  {
   "cell_type": "code",
   "execution_count": 1,
   "id": "false-butter",
   "metadata": {},
   "outputs": [
    {
     "name": "stdout",
     "output_type": "stream",
     "text": [
      "[(0.   , 4.70341141e-21, -2.21807472e-17, -1.81462139e-26, 100000., 30.)\n",
      " (0.001, 4.70340916e-21, -2.21807471e-17,  3.17202337e-25, 100000., 30.)\n",
      " (0.002, 4.70340588e-21, -2.21807471e-17,  6.52268638e-25, 100000., 30.)\n",
      " ...\n",
      " (0.999, 4.35746572e-21, -2.21806941e-17,  2.31197407e-22, 100000., 30.)\n",
      " (1.   , 4.35686463e-21, -2.21806941e-17,  2.31342813e-22, 100000., 30.)\n",
      " (1.   , 4.35686463e-21, -2.21806941e-17,  2.31342813e-22, 100000., 30.)]\n"
     ]
    }
   ],
   "source": [
    "import numpy as np\n",
    "from os.path import join\n",
    "import fmpy\n",
    "\n",
    "directory = \"../script/fmu\"\n",
    "fmu_filename = \"PumpMotor.fmu\"\n",
    "path_fmu = join(directory, fmu_filename)\n",
    "\n",
    "kwargs = {\n",
    "        \"validate\": False, \"fmi_type\": \"ModelExchange\", \"solver\": \"CVode\",\n",
    "        \"relative_tolerance\": 1e-6\n",
    "}\n",
    "result = fmpy.simulate_fmu(path_fmu, **kwargs)\n",
    "print(result)"
   ]
  }
 ],
 "metadata": {
  "jupytext": {
   "text_representation": {
    "extension": ".md",
    "format_name": "myst",
    "format_version": 0.12,
    "jupytext_version": "1.8.2"
   }
  },
  "kernelspec": {
   "display_name": "Python 3",
   "language": "python",
   "name": "python3"
  },
  "language_info": {
   "codemirror_mode": {
    "name": "ipython",
    "version": 3
   },
   "file_extension": ".py",
   "mimetype": "text/x-python",
   "name": "python",
   "nbconvert_exporter": "python",
   "pygments_lexer": "ipython3",
   "version": "3.8.7"
  },
  "source_map": [
   12,
   16
  ]
 },
 "nbformat": 4,
 "nbformat_minor": 5
}